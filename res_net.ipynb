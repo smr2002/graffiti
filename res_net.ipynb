{
 "cells": [
  {
   "cell_type": "code",
   "execution_count": 4,
   "metadata": {},
   "outputs": [],
   "source": [
    "import os, numpy as np, pandas as pd, matplotlib.pyplot as plt\n",
    "from tensorflow.keras.preprocessing.image import load_img\n",
    "from tensorflow.keras.preprocessing.image import img_to_array\n",
    "from tensorflow.keras.applications.vgg16 import preprocess_input\n",
    "from tensorflow.keras.applications.resnet_v2 import decode_predictions\n",
    "from tensorflow.keras.applications.resnet_v2 import preprocess_input\n",
    "from tensorflow.keras.applications.resnet_v2 import ResNet101V2\n",
    "from tensorflow.keras.optimizers import Adam\n",
    "from tensorflow.keras.losses import CategoricalCrossentropy\n",
    "from keras.models import Sequential\n",
    "from keras.layers import Dense\n",
    "from keras.utils import np_utils\n",
    "from keras.models import Model\n",
    "from keras.layers import Flatten\n",
    "from copy import copy, deepcopy"
   ]
  },
  {
   "cell_type": "code",
   "execution_count": 5,
   "metadata": {},
   "outputs": [],
   "source": [
    "import numpy as np\n",
    "import matplotlib.pyplot as plt\n",
    "from sklearn.linear_model import LogisticRegression\n",
    "import os"
   ]
  },
  {
   "cell_type": "code",
   "execution_count": 6,
   "metadata": {},
   "outputs": [],
   "source": [
    "import os, numpy as np, pandas as pd, matplotlib.pyplot as plt\n",
    "from subprocess import check_output"
   ]
  },
  {
   "cell_type": "code",
   "execution_count": 7,
   "metadata": {},
   "outputs": [
    {
     "ename": "KeyboardInterrupt",
     "evalue": "",
     "output_type": "error",
     "traceback": [
      "\u001b[0;31m---------------------------------------------------------------------------\u001b[0m",
      "\u001b[0;31mKeyboardInterrupt\u001b[0m                         Traceback (most recent call last)",
      "Cell \u001b[0;32mIn[7], line 7\u001b[0m\n\u001b[1;32m      5\u001b[0m X_train \u001b[38;5;241m=\u001b[39m [img_to_array(im) \u001b[38;5;28;01mfor\u001b[39;00m im \u001b[38;5;129;01min\u001b[39;00m X_train]\n\u001b[1;32m      6\u001b[0m X_train \u001b[38;5;241m=\u001b[39m [im\u001b[38;5;241m.\u001b[39mreshape((\u001b[38;5;241m1\u001b[39m, im\u001b[38;5;241m.\u001b[39mshape[\u001b[38;5;241m0\u001b[39m], im\u001b[38;5;241m.\u001b[39mshape[\u001b[38;5;241m1\u001b[39m], im\u001b[38;5;241m.\u001b[39mshape[\u001b[38;5;241m2\u001b[39m])) \u001b[38;5;28;01mfor\u001b[39;00m im \u001b[38;5;129;01min\u001b[39;00m X_train]\n\u001b[0;32m----> 7\u001b[0m X_train \u001b[38;5;241m=\u001b[39m np\u001b[38;5;241m.\u001b[39marray([preprocess_input(im) \u001b[38;5;28;01mfor\u001b[39;00m im \u001b[38;5;129;01min\u001b[39;00m X_train])\n\u001b[1;32m      8\u001b[0m train_class \u001b[38;5;241m=\u001b[39m pd\u001b[38;5;241m.\u001b[39mread_csv(os\u001b[38;5;241m.\u001b[39mpath\u001b[38;5;241m.\u001b[39mjoin(\u001b[38;5;124m'\u001b[39m\u001b[38;5;124mgraffiti_data\u001b[39m\u001b[38;5;124m'\u001b[39m,\u001b[38;5;124m'\u001b[39m\u001b[38;5;124mtrain\u001b[39m\u001b[38;5;124m'\u001b[39m,\u001b[38;5;124m'\u001b[39m\u001b[38;5;124m_classes.csv\u001b[39m\u001b[38;5;124m'\u001b[39m))\\\n\u001b[1;32m      9\u001b[0m \u001b[38;5;241m.\u001b[39msort_values(\u001b[38;5;124m\"\u001b[39m\u001b[38;5;124mfilename\u001b[39m\u001b[38;5;124m\"\u001b[39m)\n\u001b[1;32m     10\u001b[0m train_class\u001b[38;5;241m.\u001b[39minsert(\u001b[38;5;241m1\u001b[39m,\u001b[38;5;124m\"\u001b[39m\u001b[38;5;124mpixvals\u001b[39m\u001b[38;5;124m\"\u001b[39m,\u001b[38;5;28mlist\u001b[39m(X_train))\n",
      "\u001b[0;31mKeyboardInterrupt\u001b[0m: "
     ]
    }
   ],
   "source": [
    "train_files = sorted([file for file in \\\n",
    "               os.listdir(os.path.join(\"graffiti_data\",\"train\"))\\\n",
    "               if file[-4:] == \".jpg\"])\n",
    "X_train = [load_img(os.path.join(\"graffiti_data\",\"train\",im)) for im in train_files]\n",
    "X_train = [img_to_array(im) for im in X_train]\n",
    "X_train = [im.reshape((1, im.shape[0], im.shape[1], im.shape[2])) for im in X_train]\n",
    "X_train = np.array([preprocess_input(im) for im in X_train])\n",
    "train_class = pd.read_csv(os.path.join('graffiti_data','train','_classes.csv'))\\\n",
    ".sort_values(\"filename\")\n",
    "train_class.insert(1,\"pixvals\",list(X_train))\n",
    "train_class.reset_index(inplace=True)"
   ]
  },
  {
   "cell_type": "code",
   "execution_count": null,
   "metadata": {},
   "outputs": [
    {
     "ename": "FileNotFoundError",
     "evalue": "[Errno 2] No such file or directory: 'graffiti/graffiti_data'",
     "output_type": "error",
     "traceback": [
      "\u001b[0;31m---------------------------------------------------------------------------\u001b[0m",
      "\u001b[0;31mFileNotFoundError\u001b[0m                         Traceback (most recent call last)",
      "Cell \u001b[0;32mIn[8], line 1\u001b[0m\n\u001b[0;32m----> 1\u001b[0m X \u001b[38;5;241m=\u001b[39m np\u001b[38;5;241m.\u001b[39mload(os\u001b[38;5;241m.\u001b[39mpath\u001b[38;5;241m.\u001b[39mjoin(\u001b[38;5;124m'\u001b[39m\u001b[38;5;124mgraffiti\u001b[39m\u001b[38;5;124m'\u001b[39m, \u001b[38;5;124m'\u001b[39m\u001b[38;5;124mgraffiti_data\u001b[39m\u001b[38;5;124m'\u001b[39m))[\u001b[38;5;124m'\u001b[39m\u001b[38;5;124marr_0\u001b[39m\u001b[38;5;124m'\u001b[39m]\n\u001b[1;32m      2\u001b[0m Y \u001b[38;5;241m=\u001b[39m np\u001b[38;5;241m.\u001b[39mload(os\u001b[38;5;241m.\u001b[39mpath\u001b[38;5;241m.\u001b[39mjoin(\u001b[38;5;124m'\u001b[39m\u001b[38;5;124mgraffiti\u001b[39m\u001b[38;5;124m'\u001b[39m, \u001b[38;5;124m'\u001b[39m\u001b[38;5;124mgraffiti_data\u001b[39m\u001b[38;5;124m'\u001b[39m))[\u001b[38;5;124m'\u001b[39m\u001b[38;5;124marr_0\u001b[39m\u001b[38;5;124m'\u001b[39m]\n\u001b[1;32m      4\u001b[0m \u001b[38;5;66;03m# Split train/test\u001b[39;00m\n",
      "File \u001b[0;32m~/miniconda3/envs/neural/lib/python3.11/site-packages/numpy/lib/npyio.py:405\u001b[0m, in \u001b[0;36mload\u001b[0;34m(file, mmap_mode, allow_pickle, fix_imports, encoding, max_header_size)\u001b[0m\n\u001b[1;32m    403\u001b[0m     own_fid \u001b[38;5;241m=\u001b[39m \u001b[38;5;28;01mFalse\u001b[39;00m\n\u001b[1;32m    404\u001b[0m \u001b[38;5;28;01melse\u001b[39;00m:\n\u001b[0;32m--> 405\u001b[0m     fid \u001b[38;5;241m=\u001b[39m stack\u001b[38;5;241m.\u001b[39menter_context(\u001b[38;5;28mopen\u001b[39m(os_fspath(file), \u001b[38;5;124m\"\u001b[39m\u001b[38;5;124mrb\u001b[39m\u001b[38;5;124m\"\u001b[39m))\n\u001b[1;32m    406\u001b[0m     own_fid \u001b[38;5;241m=\u001b[39m \u001b[38;5;28;01mTrue\u001b[39;00m\n\u001b[1;32m    408\u001b[0m \u001b[38;5;66;03m# Code to distinguish from NumPy binary files and pickles.\u001b[39;00m\n",
      "\u001b[0;31mFileNotFoundError\u001b[0m: [Errno 2] No such file or directory: 'graffiti/graffiti_data'"
     ]
    }
   ],
   "source": [
    "X = np.load(os.path.join('graffiti', 'graffiti_data'))['arr_0']\n",
    "Y = np.load(os.path.join('graffiti', 'graffiti_data'))['arr_0']\n",
    "\n",
    "# Split train/test\n",
    "x_train = X[0:500]\n",
    "y_train = Y[0:500]\n",
    "x_test = X[500:]\n",
    "y_test = Y[500:] \n",
    "\n",
    "# Flattens the images into the data-matrix format that most sklearn models accept\n",
    "x_raw_train = x_train.flatten().reshape([x_train.shape[0], 200*200*3])\n",
    "x_raw_test = x_test.flatten().reshape([x_test.shape[0], 200*200*3])"
   ]
  },
  {
   "cell_type": "code",
   "execution_count": 4,
   "metadata": {},
   "outputs": [
    {
     "name": "stdout",
     "output_type": "stream",
     "text": [
      "Downloading data from https://storage.googleapis.com/tensorflow/keras-applications/resnet/resnet50_weights_tf_dim_ordering_tf_kernels_notop.h5\n",
      "94765736/94765736 [==============================] - 37s 0us/step\n"
     ]
    },
    {
     "ename": "NameError",
     "evalue": "name 'x_train' is not defined",
     "output_type": "error",
     "traceback": [
      "\u001b[0;31m---------------------------------------------------------------------------\u001b[0m",
      "\u001b[0;31mNameError\u001b[0m                                 Traceback (most recent call last)",
      "Cell \u001b[0;32mIn[4], line 2\u001b[0m\n\u001b[1;32m      1\u001b[0m feature_model \u001b[38;5;241m=\u001b[39m ResNet50(include_top\u001b[38;5;241m=\u001b[39m\u001b[38;5;28;01mFalse\u001b[39;00m, input_shape\u001b[38;5;241m=\u001b[39m(\u001b[38;5;241m200\u001b[39m, \u001b[38;5;241m200\u001b[39m, \u001b[38;5;241m3\u001b[39m))\n\u001b[0;32m----> 2\u001b[0m x_train_FE \u001b[38;5;241m=\u001b[39m feature_model\u001b[38;5;241m.\u001b[39mpredict(preprocess_input(x_train))\n\u001b[1;32m      3\u001b[0m x_test_FE \u001b[38;5;241m=\u001b[39m feature_model\u001b[38;5;241m.\u001b[39mpredict(preprocess_input(x_test))\n\u001b[1;32m      5\u001b[0m x_train_FE \u001b[38;5;241m=\u001b[39m x_train_FE\u001b[38;5;241m.\u001b[39mreshape((x_train_FE\u001b[38;5;241m.\u001b[39mshape[\u001b[38;5;241m0\u001b[39m], \u001b[38;5;241m-\u001b[39m\u001b[38;5;241m1\u001b[39m))\n",
      "\u001b[0;31mNameError\u001b[0m: name 'x_train' is not defined"
     ]
    }
   ],
   "source": [
    "feature_model = ResNet50(include_top=False, input_shape=(200, 200, 3))\n",
    "x_train_FE = feature_model.predict(preprocess_input(x_train))\n",
    "x_test_FE = feature_model.predict(preprocess_input(x_test))\n",
    "\n",
    "x_train_FE = x_train_FE.reshape((x_train_FE.shape[0], -1))\n",
    "x_test_FE = x_test_FE.reshape((x_test_FE.shape[0], -1))"
   ]
  },
  {
   "cell_type": "code",
   "execution_count": null,
   "metadata": {},
   "outputs": [],
   "source": [
    "# feature_lr = LogisticRegression(max_iter=1000)\n",
    "# feature_lr.fit(x_train_FE, y_train)\n",
    "\n",
    "# # Predict on test data\n",
    "# y_pred = feature_lr.predict(x_test_FE)\n",
    "\n",
    "# # Calculate accuracy\n",
    "# from sklearn.metrics import accuracy_score\n",
    "# accuracy = accuracy_score(y_test, y_pred)"
   ]
  },
  {
   "cell_type": "code",
   "execution_count": null,
   "metadata": {},
   "outputs": [],
   "source": [
    "# print(accuracy)"
   ]
  },
  {
   "cell_type": "code",
   "execution_count": 2,
   "metadata": {},
   "outputs": [
    {
     "name": "stderr",
     "output_type": "stream",
     "text": [
      "\n",
      "KeyboardInterrupt\n",
      "\n"
     ]
    }
   ],
   "source": [
    "from keras.models import Model\n",
    "from keras.layers import Dense\n",
    "from keras.layers import Flatten\n",
    "\n",
    "base_model = ResNet101V2(include_top=False, input_shape=(400, 400, 3), pooling='max')\n",
    "\n",
    "# Prevent training on the base model layers\n",
    "# for layer in base_model.layers:\n",
    "#     layer.trainable = False\n",
    "\n",
    "# Properly connect new layers\n",
    "x = Flatten()(base_model.output)  # Ensure the base model's output connects here\n",
    "x = Dense(1024, activation='relu')(x)  # Connect this layer to the output of the Flatten layer\n",
    "output = Dense(4, activation='softmax')(x)  # Connect this Dense layer to the previous Dense layer\n",
    "\n",
    "# Finalize the model\n",
    "model = Model(inputs=base_model.input, outputs=output)\n",
    "\n",
    "for layer in model.layers[-8:]:\n",
    "    layer.trainable = False\n",
    "    \n",
    "# Compile the model\n",
    "model.compile(optimizer=\"Adam\", loss=\"CategoricalCrossentropy\", metrics=['accuracy'])\n",
    "\n",
    "# Print the model structure to verify it is correct\n",
    "model.summary()\n",
    "hist = model.fit(x_train, y_train, epochs=5)\n",
    "base_model.layers\n",
    "hist = model.fit(x_train, y_train, epochs=5)\n",
    "model.save(\"res_model_1\")\n",
    "test = process(\"test\")\n",
    "test.shape\n",
    "x_test = np.array(list(thing for thing in test.values[:,2]))\n",
    "y_test = test.values[:,-4:].astype(np.float32)\n",
    "y_pred = model.predict(x_test)\n",
    "def quantize(array):\n",
    "    l = list(array)\n",
    "    return np.array([round(i) for i in l])\n",
    "for i in range(len(y_pred)):\n",
    "    y_pred[i] = quantize(y_pred[i])    \n",
    "def compare(a1,a2):\n",
    "    if sum(a1==a2) == 4:\n",
    "        return True\n",
    "    return False\n",
    "truth_mat = []\n",
    "for i in range(len(y_pred)):\n",
    "    truth_mat.append(compare(y_pred[i],y_test[i]))\n",
    "print(f\"Test Accuracy: {round(100* sum(truth_mat)/len(truth_mat),2)}%\")"
   ]
  },
  {
   "cell_type": "code",
   "execution_count": null,
   "metadata": {},
   "outputs": [],
   "source": []
  },
  {
   "cell_type": "code",
   "execution_count": null,
   "metadata": {},
   "outputs": [],
   "source": []
  }
 ],
 "metadata": {
  "kernelspec": {
   "display_name": "Python 3 (ipykernel)",
   "language": "python",
   "name": "python3"
  },
  "language_info": {
   "codemirror_mode": {
    "name": "ipython",
    "version": 3
   },
   "file_extension": ".py",
   "mimetype": "text/x-python",
   "name": "python",
   "nbconvert_exporter": "python",
   "pygments_lexer": "ipython3",
   "version": "3.11.5"
  }
 },
 "nbformat": 4,
 "nbformat_minor": 2
}
