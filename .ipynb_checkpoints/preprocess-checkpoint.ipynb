{
 "cells": [
  {
   "cell_type": "code",
   "execution_count": 1,
   "id": "46ea2012-af78-469a-a5b7-8f1432b7b0b2",
   "metadata": {},
   "outputs": [],
   "source": [
    "import os, numpy as np, pandas as pd, matplotlib.pyplot as plt\n",
    "from subprocess import check_output"
   ]
  },
  {
   "cell_type": "code",
   "execution_count": 2,
   "id": "70234489-edf2-43c8-8880-c503c8d8bf74",
   "metadata": {},
   "outputs": [],
   "source": [
    "from tensorflow.keras.preprocessing.image import load_img\n",
    "from tensorflow.keras.preprocessing.image import img_to_array\n",
    "from tensorflow.keras.applications.vgg16 import preprocess_input\n",
    "from tensorflow.keras.applications.vgg16 import decode_predictions\n",
    "from tensorflow.keras.applications.vgg16 import VGG16"
   ]
  },
  {
   "cell_type": "code",
   "execution_count": 3,
   "id": "1f60ee67-b7a4-42a5-a678-5c411d0a5df4",
   "metadata": {
    "tags": []
   },
   "outputs": [],
   "source": [
    "train_files = sorted([file for file in \\\n",
    "               os.listdir(os.path.join(\"graffiti_data\",\"train\"))\\\n",
    "               if file[-4:] == \".jpg\"])\n",
    "X_train = [load_img(os.path.join(\"graffiti_data\",\"train\",im)) for im in train_files]\n",
    "X_train = [img_to_array(im) for im in X_train]\n",
    "X_train = [im.reshape((1, im.shape[0], im.shape[1], im.shape[2])) for im in X_train]\n",
    "X_train = np.array([preprocess_input(im) for im in X_train])\n",
    "train_class = pd.read_csv(os.path.join('graffiti_data','train','_classes.csv'))\\\n",
    ".sort_values(\"filename\")\n",
    "train_class.insert(1,\"pixvals\",list(X_train))\n",
    "train_class.reset_index(inplace=True)"
   ]
  },
  {
   "cell_type": "code",
   "execution_count": 4,
   "id": "bdd42dbc-3f8a-4afa-baaf-0021516e5884",
   "metadata": {},
   "outputs": [
    {
     "data": {
      "text/html": [
       "<div>\n",
       "<style scoped>\n",
       "    .dataframe tbody tr th:only-of-type {\n",
       "        vertical-align: middle;\n",
       "    }\n",
       "\n",
       "    .dataframe tbody tr th {\n",
       "        vertical-align: top;\n",
       "    }\n",
       "\n",
       "    .dataframe thead th {\n",
       "        text-align: right;\n",
       "    }\n",
       "</style>\n",
       "<table border=\"1\" class=\"dataframe\">\n",
       "  <thead>\n",
       "    <tr style=\"text-align: right;\">\n",
       "      <th></th>\n",
       "      <th>index</th>\n",
       "      <th>filename</th>\n",
       "      <th>pixvals</th>\n",
       "      <th>masterpiece</th>\n",
       "      <th>nograffiti</th>\n",
       "      <th>tags</th>\n",
       "      <th>throwups</th>\n",
       "    </tr>\n",
       "  </thead>\n",
       "  <tbody>\n",
       "    <tr>\n",
       "      <th>0</th>\n",
       "      <td>1361</td>\n",
       "      <td>08ACAE21-BB01-4D06-9BCC-DCD4B012A848_jpg.rf.b3...</td>\n",
       "      <td>[[[[-26.939003  -18.779      -3.6800003], [-27...</td>\n",
       "      <td>0</td>\n",
       "      <td>0</td>\n",
       "      <td>1</td>\n",
       "      <td>0</td>\n",
       "    </tr>\n",
       "    <tr>\n",
       "      <th>1</th>\n",
       "      <td>151</td>\n",
       "      <td>08ACAE21-BB01-4D06-9BCC-DCD4B012A848_jpg.rf.e5...</td>\n",
       "      <td>[[[[-0.939003 46.221    75.32    ], [ 7.060997...</td>\n",
       "      <td>0</td>\n",
       "      <td>0</td>\n",
       "      <td>1</td>\n",
       "      <td>0</td>\n",
       "    </tr>\n",
       "    <tr>\n",
       "      <th>2</th>\n",
       "      <td>585</td>\n",
       "      <td>08ACAE21-BB01-4D06-9BCC-DCD4B012A848_jpg.rf.fb...</td>\n",
       "      <td>[[[[-12.939003  25.221     44.32    ], [-15.93...</td>\n",
       "      <td>0</td>\n",
       "      <td>0</td>\n",
       "      <td>1</td>\n",
       "      <td>0</td>\n",
       "    </tr>\n",
       "    <tr>\n",
       "      <th>3</th>\n",
       "      <td>1707</td>\n",
       "      <td>105_0563_1590346473_o_jpg.rf.5a8de2a40ab56c4a3...</td>\n",
       "      <td>[[[[ -83.939  -96.779 -103.68 ], [ -99.939 -11...</td>\n",
       "      <td>0</td>\n",
       "      <td>0</td>\n",
       "      <td>1</td>\n",
       "      <td>0</td>\n",
       "    </tr>\n",
       "    <tr>\n",
       "      <th>4</th>\n",
       "      <td>715</td>\n",
       "      <td>105_0563_1590346473_o_jpg.rf.745179d72e7fb256e...</td>\n",
       "      <td>[[[[ -90.939 -101.779 -114.68 ], [-103.939 -11...</td>\n",
       "      <td>0</td>\n",
       "      <td>0</td>\n",
       "      <td>1</td>\n",
       "      <td>0</td>\n",
       "    </tr>\n",
       "  </tbody>\n",
       "</table>\n",
       "</div>"
      ],
      "text/plain": [
       "   index                                           filename  \\\n",
       "0   1361  08ACAE21-BB01-4D06-9BCC-DCD4B012A848_jpg.rf.b3...   \n",
       "1    151  08ACAE21-BB01-4D06-9BCC-DCD4B012A848_jpg.rf.e5...   \n",
       "2    585  08ACAE21-BB01-4D06-9BCC-DCD4B012A848_jpg.rf.fb...   \n",
       "3   1707  105_0563_1590346473_o_jpg.rf.5a8de2a40ab56c4a3...   \n",
       "4    715  105_0563_1590346473_o_jpg.rf.745179d72e7fb256e...   \n",
       "\n",
       "                                             pixvals   masterpiece  \\\n",
       "0  [[[[-26.939003  -18.779      -3.6800003], [-27...             0   \n",
       "1  [[[[-0.939003 46.221    75.32    ], [ 7.060997...             0   \n",
       "2  [[[[-12.939003  25.221     44.32    ], [-15.93...             0   \n",
       "3  [[[[ -83.939  -96.779 -103.68 ], [ -99.939 -11...             0   \n",
       "4  [[[[ -90.939 -101.779 -114.68 ], [-103.939 -11...             0   \n",
       "\n",
       "    nograffiti   tags   throwups  \n",
       "0            0      1          0  \n",
       "1            0      1          0  \n",
       "2            0      1          0  \n",
       "3            0      1          0  \n",
       "4            0      1          0  "
      ]
     },
     "execution_count": 4,
     "metadata": {},
     "output_type": "execute_result"
    }
   ],
   "source": [
    "train_class.head(5)"
   ]
  }
 ],
 "metadata": {
  "kernelspec": {
   "display_name": "Python 3 (ipykernel)",
   "language": "python",
   "name": "python3"
  },
  "language_info": {
   "codemirror_mode": {
    "name": "ipython",
    "version": 3
   },
   "file_extension": ".py",
   "mimetype": "text/x-python",
   "name": "python",
   "nbconvert_exporter": "python",
   "pygments_lexer": "ipython3",
   "version": "3.9.12"
  }
 },
 "nbformat": 4,
 "nbformat_minor": 5
}
