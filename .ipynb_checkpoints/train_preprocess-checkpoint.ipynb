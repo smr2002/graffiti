{
 "cells": [
  {
   "cell_type": "code",
   "execution_count": 1,
   "id": "46ea2012-af78-469a-a5b7-8f1432b7b0b2",
   "metadata": {},
   "outputs": [],
   "source": [
    "import os, numpy as np, pandas as pd, matplotlib.pyplot as plt"
   ]
  },
  {
   "cell_type": "code",
   "execution_count": 2,
   "id": "70234489-edf2-43c8-8880-c503c8d8bf74",
   "metadata": {},
   "outputs": [],
   "source": [
    "from tensorflow.keras.preprocessing.image import load_img\n",
    "from tensorflow.keras.preprocessing.image import img_to_array\n",
    "from tensorflow.keras.applications.vgg16 import preprocess_input\n",
    "from tensorflow.keras.applications.vgg16 import decode_predictions\n",
    "from tensorflow.keras.applications.vgg16 import VGG16"
   ]
  },
  {
   "cell_type": "code",
   "execution_count": 3,
   "id": "ef611b7f-9aaa-4010-a917-430314531c06",
   "metadata": {},
   "outputs": [],
   "source": [
    "def process(data):\n",
    "    if not os.path.exists(os.path.join(\"graffiti_data\",data)):\n",
    "        raise FileNotFoundError(\"No such data folder. Try 'train', 'test', or 'valid'.\")\n",
    "    files = sorted([file for file in \\\n",
    "                    os.listdir(os.path.join(\"graffiti_data\",data))\\\n",
    "                    if file[-4:] == \".jpg\"])\n",
    "    X = [load_img(os.path.join(\"graffiti_data\",data,im)) for im in files]\n",
    "    X = [img_to_array(im) for im in X]\n",
    "    X = [im.reshape((1, im.shape[0], im.shape[1], im.shape[2])) for im in X]\n",
    "    X = np.array([preprocess_input(im) for im in X])\n",
    "    classes = pd.read_csv(os.path.join('graffiti_data',data,'_classes.csv'))\\\n",
    "    .sort_values(\"filename\")\n",
    "    classes.insert(1,\"pixvals\",list(X))\n",
    "    classes.reset_index(inplace=True)\n",
    "    new_path = os.path.join(\"graffiti_data\",f\"{data}_data_full.csv\")\n",
    "    if os.path.exists(new_path):\n",
    "        os.remove(new_path)\n",
    "    classes.to_csv(new_path)\n",
    "    return classes"
   ]
  },
  {
   "cell_type": "code",
   "execution_count": 4,
   "id": "7daee4bb-9b2f-41dc-abd1-5638be00c43d",
   "metadata": {},
   "outputs": [],
   "source": [
    "test_data_df= process(\"test\")"
   ]
  }
 ],
 "metadata": {
  "kernelspec": {
   "display_name": "Python 3 (ipykernel)",
   "language": "python",
   "name": "python3"
  },
  "language_info": {
   "codemirror_mode": {
    "name": "ipython",
    "version": 3
   },
   "file_extension": ".py",
   "mimetype": "text/x-python",
   "name": "python",
   "nbconvert_exporter": "python",
   "pygments_lexer": "ipython3",
   "version": "3.9.12"
  }
 },
 "nbformat": 4,
 "nbformat_minor": 5
}
