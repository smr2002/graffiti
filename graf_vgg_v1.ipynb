{
 "cells": [
  {
   "cell_type": "code",
   "execution_count": null,
   "id": "73605334-f3fe-4bf2-9687-25711066871d",
   "metadata": {},
   "outputs": [],
   "source": [
    "%load_ext autoreload\n",
    "%autoreload 2"
   ]
  },
  {
   "cell_type": "code",
   "execution_count": null,
   "id": "78b4b79f-0864-43a7-8eaf-b0012d4b62d5",
   "metadata": {},
   "outputs": [],
   "source": [
    "import os, numpy as np, pandas as pd, matplotlib.pyplot as plt\n",
    "from tensorflow.keras.preprocessing.image import load_img\n",
    "from tensorflow.keras.preprocessing.image import img_to_array\n",
    "from tensorflow.keras.applications.vgg16 import preprocess_input\n",
    "from tensorflow.keras.applications.vgg16 import decode_predictions\n",
    "from tensorflow.keras.applications.vgg16 import VGG16\n",
    "from tensorflow.keras.optimizers import Adam\n",
    "from tensorflow.keras.losses import CategoricalCrossentropy\n",
    "from keras.models import Sequential\n",
    "from keras.layers import Dense\n",
    "from keras.utils import np_utils\n",
    "from keras.models import Model\n",
    "from keras.layers import Flatten\n",
    "from copy import copy, deepcopy"
   ]
  },
  {
   "cell_type": "code",
   "execution_count": null,
   "id": "9ca52307-f9c8-48ea-b6a1-6d05dded8887",
   "metadata": {},
   "outputs": [],
   "source": [
    "# HELPERS\n",
    "def process(data):\n",
    "    # Returns tuple X, y with data and classes in array form (in format recognizable by VGG16)\n",
    "    if not os.path.exists(os.path.join(\"graffiti_data\",data)):\n",
    "        raise FileNotFoundError(\"No such data folder. Try 'train', 'test', or 'valid'.\")\n",
    "    files = sorted([file for file in \\\n",
    "                    os.listdir(os.path.join(\"graffiti_data\",data))\\\n",
    "                    if file[-4:] == \".jpg\"])\n",
    "    X = [load_img(os.path.join(\"graffiti_data\",data,im)) for im in files]\n",
    "    X = [img_to_array(im) for im in X]\n",
    "    # X = [im.reshape((1, im.shape[0], im.shape[1], im.shape[2])) for im in X]\n",
    "    X = np.array([preprocess_input(im) for im in X])\n",
    "    classes = pd.read_csv(os.path.join('graffiti_data',data,'_classes.csv'))\\\n",
    "    .sort_values(\"filename\")\n",
    "    classes.insert(1,\"pixvals\",list(X))\n",
    "    classes.reset_index(inplace=True)\n",
    "    new_path = os.path.join(\"graffiti_data\",f\"{data}_data_full.csv\")\n",
    "    if os.path.exists(new_path):\n",
    "        os.remove(new_path)\n",
    "    classes.to_csv(new_path)\n",
    "    X = np.array(list(thing for thing in classes.values[:,2]))\n",
    "    y = classes.values[:,-4:].astype(np.float32)\n",
    "    return X,y\n",
    "def dfprocess(data):\n",
    "    # Returns tuple X, y with data and classes in array form (in format recognizable by VGG16)\n",
    "    if not os.path.exists(os.path.join(\"graffiti_data\",data)):\n",
    "        raise FileNotFoundError(\"No such data folder. Try 'train', 'test', or 'valid'.\")\n",
    "    files = sorted([file for file in \\\n",
    "                    os.listdir(os.path.join(\"graffiti_data\",data))\\\n",
    "                    if file[-4:] == \".jpg\"])\n",
    "    X = [load_img(os.path.join(\"graffiti_data\",data,im)) for im in files]\n",
    "    X = [img_to_array(im) for im in X]\n",
    "    # X = [im.reshape((1, im.shape[0], im.shape[1], im.shape[2])) for im in X]\n",
    "    X = np.array([preprocess_input(im) for im in X])\n",
    "    classes = pd.read_csv(os.path.join('graffiti_data',data,'_classes.csv'))\\\n",
    "    .sort_values(\"filename\")\n",
    "    classes.insert(1,\"pixvals\",list(X))\n",
    "    classes.reset_index(inplace=True)\n",
    "    new_path = os.path.join(\"graffiti_data\",f\"{data}_data_full.csv\")\n",
    "    if os.path.exists(new_path):\n",
    "        os.remove(new_path)\n",
    "    classes.to_csv(new_path)\n",
    "    return classes\n",
    "def combine(sets):\n",
    "    df = pd.concat(dfprocess(s) for s in sets)\n",
    "    X = np.array(list(thing for thing in df.values[:,2]))\n",
    "    y = df.values[:,-4:].astype(np.float32)\n",
    "    return X,y\n",
    "def quantize(array):\n",
    "    # Takes a 1D array and rounds the elements to the nearest integer\n",
    "    l = list(array)\n",
    "    return np.array([round(i) for i in l])\n",
    "def compare(a1,a2,number_of_classes = 4):\n",
    "    # Determines weather two classifications are the same (specifically for 4 classes)\n",
    "    if sum(a1==a2) == number_of_classes:\n",
    "        return True\n",
    "    return False\n",
    "def test_accuracy(prediction_array,true_array):\n",
    "    # Returns accuracy of testing data\n",
    "    for i in range(len(prediction_array)):\n",
    "        prediction_array[i] = quantize(prediction_array[i])\n",
    "    truth_mat = []\n",
    "    for i in range(len(prediction_array)):\n",
    "        truth_mat.append(compare(prediction_array[i],true_array[i]))\n",
    "    acc = sum(truth_mat)/len(truth_mat)\n",
    "    print(f\"Accuracy: {round(100* sum(truth_mat)/len(truth_mat),2)}%\")\n",
    "    return acc\n",
    "\n",
    "# Inputs: X -- array, y -- array, (train, test, valid) -- ratio numbers (e.g. \"100:20:15\")\n",
    "def split_ttv(X,y,train,test,valid):\n",
    "    assert len(X) == len(y)\n",
    "    l = len(X)\n",
    "    t = train+test+valid\n",
    "    tr_ratio = train/t\n",
    "    te_ratio = test/t\n",
    "    tr_index = round(tr_ratio * l)\n",
    "    te_index = tr_index + round(te_ratio * l)\n",
    "    tr_x = X[:tr_index]\n",
    "    te_x = X[tr_index+1:te_index]\n",
    "    va_x = X[te_index+1:]\n",
    "    tr_y = y[:tr_index]\n",
    "    te_y = y[tr_index+1:te_index]\n",
    "    va_y = y[te_index+1:]\n",
    "    return (tr_x,tr_y),(te_x,te_y),(va_x,va_y)"
   ]
  },
  {
   "cell_type": "code",
   "execution_count": null,
   "id": "c47bc5c5-6f8e-4046-9300-61e51d7db91c",
   "metadata": {},
   "outputs": [],
   "source": [
    "# combine all data into one array \n",
    "X,y = combine([\"train\",\"test\",\"valid\"])"
   ]
  },
  {
   "cell_type": "code",
   "execution_count": null,
   "id": "a77d1f68-e340-4031-9499-65759d0c55ca",
   "metadata": {},
   "outputs": [],
   "source": [
    "# split data \n",
    "train, test, valid = split_ttv(X,y,100,20,15)\n",
    "train_x, train_y = train\n",
    "test_x, test_y = test\n",
    "valid_x, valid_y = valid"
   ]
  },
  {
   "cell_type": "code",
   "execution_count": null,
   "id": "5fbc64e4-455c-41c5-94d4-0db6a62c3c16",
   "metadata": {},
   "outputs": [],
   "source": [
    "# Load and process training and validation data\n",
    "x_train, y_train = process(\"train\")\n",
    "val_data = process(\"valid\")"
   ]
  },
  {
   "cell_type": "code",
   "execution_count": null,
   "id": "ebcba4bf-1af7-4172-9017-473bb78b8bd2",
   "metadata": {
    "tags": []
   },
   "outputs": [],
   "source": [
    "# Load VGG16 without the top layer and with pooling\n",
    "base_model = VGG16(include_top=False, input_shape=(400, 400, 3), pooling='max')\n",
    "\n",
    "# Properly connect new layers\n",
    "x = Flatten()(base_model.output)  # Ensure the base model's output connects here\n",
    "x = Dense(1024, activation='relu')(x)  # Connect this layer to the output of the Flatten layer\n",
    "output = Dense(4, activation='softmax')(x)  # Connect this Dense layer to the previous Dense layer\n",
    "\n",
    "# Finalize the model\n",
    "model = Model(inputs=base_model.input, outputs=output)\n",
    "\n",
    "# Freeze Layers\n",
    "for layer in model.layers[-8:]:\n",
    "    layer.trainable = False\n",
    "    \n",
    "# Compile the model\n",
    "model.compile(optimizer=\"Adam\", loss=\"CategoricalCrossentropy\", metrics=['accuracy'])\n",
    "\n",
    "# Print the model summary\n",
    "# model.summary()"
   ]
  },
  {
   "cell_type": "code",
   "execution_count": null,
   "id": "df864cad-7138-42fe-84fa-93f0814c3798",
   "metadata": {
    "tags": []
   },
   "outputs": [],
   "source": [
    "hist = model.fit(x_train, y_train, epochs=3, validation_data = val_data)\n",
    "# model.save(\"finalproj_vgg_model\") # save model "
   ]
  },
  {
   "cell_type": "code",
   "execution_count": null,
   "id": "6ddcf85d-d883-41d8-a838-78c9bc410218",
   "metadata": {},
   "outputs": [],
   "source": [
    "hist2 = model.fit(x_train, y_train, epochs=2, validation_data = val_data)\n",
    "# model.save(\"finalproj_vgg_model\") # save model "
   ]
  },
  {
   "cell_type": "code",
   "execution_count": null,
   "id": "4c881d61-8bfe-4ab3-a14c-a72f53ce847c",
   "metadata": {},
   "outputs": [],
   "source": [
    "# Load test data\n",
    "x_test, y_test = process(\"test\")\n",
    "\n",
    "# Create predictions\n",
    "y_pred = model.predict(x_test)\n",
    "\n",
    "# Determine test accuracy\n",
    "test_accuracy(y_pred,y_test)"
   ]
  }
 ],
 "metadata": {
  "kernelspec": {
   "display_name": "Python 3 (ipykernel)",
   "language": "python",
   "name": "python3"
  },
  "language_info": {
   "codemirror_mode": {
    "name": "ipython",
    "version": 3
   },
   "file_extension": ".py",
   "mimetype": "text/x-python",
   "name": "python",
   "nbconvert_exporter": "python",
   "pygments_lexer": "ipython3",
   "version": "3.9.12"
  }
 },
 "nbformat": 4,
 "nbformat_minor": 5
}
