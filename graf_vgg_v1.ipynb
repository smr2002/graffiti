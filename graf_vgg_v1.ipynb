{
 "cells": [
  {
   "cell_type": "code",
   "execution_count": 4,
   "id": "73605334-f3fe-4bf2-9687-25711066871d",
   "metadata": {},
   "outputs": [],
   "source": [
    "%load_ext autoreload\n",
    "%autoreload 2"
   ]
  },
  {
   "cell_type": "code",
   "execution_count": 21,
   "id": "78b4b79f-0864-43a7-8eaf-b0012d4b62d5",
   "metadata": {},
   "outputs": [],
   "source": [
    "import os, numpy as np, pandas as pd, matplotlib.pyplot as plt\n",
    "from tensorflow.keras.preprocessing.image import load_img\n",
    "from tensorflow.keras.preprocessing.image import img_to_array\n",
    "from tensorflow.keras.applications.vgg16 import preprocess_input\n",
    "from tensorflow.keras.applications.vgg16 import decode_predictions\n",
    "from tensorflow.keras.applications.vgg16 import VGG16\n",
    "from tensorflow.keras.optimizers import Adam\n",
    "from tensorflow.keras.losses import CategoricalCrossentropy\n",
    "from keras.models import Sequential\n",
    "from keras.layers import Dense\n",
    "from keras.utils import np_utils\n",
    "from keras.models import Model\n",
    "from keras.layers import Flatten\n",
    "from copy import copy, deepcopy"
   ]
  },
  {
   "cell_type": "code",
   "execution_count": 158,
   "id": "9ca52307-f9c8-48ea-b6a1-6d05dded8887",
   "metadata": {},
   "outputs": [],
   "source": [
    "# HELPERS\n",
    "def process(data):\n",
    "    if not os.path.exists(os.path.join(\"graffiti_data\",data)):\n",
    "        raise FileNotFoundError(\"No such data folder. Try 'train', 'test', or 'valid'.\")\n",
    "    files = sorted([file for file in \\\n",
    "                    os.listdir(os.path.join(\"graffiti_data\",data))\\\n",
    "                    if file[-4:] == \".jpg\"])\n",
    "    X = [load_img(os.path.join(\"graffiti_data\",data,im)) for im in files]\n",
    "    X = [img_to_array(im) for im in X]\n",
    "    X = [im.reshape((1, im.shape[0], im.shape[1], im.shape[2])) for im in X]\n",
    "    X = np.array([preprocess_input(im) for im in X])\n",
    "    classes = pd.read_csv(os.path.join('graffiti_data',data,'_classes.csv'))\\\n",
    "    .sort_values(\"filename\")\n",
    "    classes.insert(1,\"pixvals\",list(X))\n",
    "    classes.reset_index(inplace=True)\n",
    "    new_path = os.path.join(\"graffiti_data\",f\"{data}_data_full.csv\")\n",
    "    if os.path.exists(new_path):\n",
    "        os.remove(new_path)\n",
    "    classes.to_csv(new_path)\n",
    "    return classes"
   ]
  },
  {
   "cell_type": "code",
   "execution_count": 151,
   "id": "5fbc64e4-455c-41c5-94d4-0db6a62c3c16",
   "metadata": {},
   "outputs": [
    {
     "data": {
      "text/plain": [
       "(1821, 7)"
      ]
     },
     "execution_count": 151,
     "metadata": {},
     "output_type": "execute_result"
    }
   ],
   "source": [
    "train = process(\"train\")\n",
    "train.shape"
   ]
  },
  {
   "cell_type": "code",
   "execution_count": 152,
   "id": "623aba95-d154-4baf-acec-af4263be0b4d",
   "metadata": {},
   "outputs": [
    {
     "data": {
      "text/html": [
       "<div>\n",
       "<style scoped>\n",
       "    .dataframe tbody tr th:only-of-type {\n",
       "        vertical-align: middle;\n",
       "    }\n",
       "\n",
       "    .dataframe tbody tr th {\n",
       "        vertical-align: top;\n",
       "    }\n",
       "\n",
       "    .dataframe thead th {\n",
       "        text-align: right;\n",
       "    }\n",
       "</style>\n",
       "<table border=\"1\" class=\"dataframe\">\n",
       "  <thead>\n",
       "    <tr style=\"text-align: right;\">\n",
       "      <th></th>\n",
       "      <th>index</th>\n",
       "      <th>filename</th>\n",
       "      <th>pixvals</th>\n",
       "      <th>masterpiece</th>\n",
       "      <th>nograffiti</th>\n",
       "      <th>tags</th>\n",
       "      <th>throwups</th>\n",
       "    </tr>\n",
       "  </thead>\n",
       "  <tbody>\n",
       "    <tr>\n",
       "      <th>0</th>\n",
       "      <td>1361</td>\n",
       "      <td>08ACAE21-BB01-4D06-9BCC-DCD4B012A848_jpg.rf.b3...</td>\n",
       "      <td>[[[-26.939003, -18.779, -3.6800003], [-27.9390...</td>\n",
       "      <td>0</td>\n",
       "      <td>0</td>\n",
       "      <td>1</td>\n",
       "      <td>0</td>\n",
       "    </tr>\n",
       "  </tbody>\n",
       "</table>\n",
       "</div>"
      ],
      "text/plain": [
       "   index                                           filename  \\\n",
       "0   1361  08ACAE21-BB01-4D06-9BCC-DCD4B012A848_jpg.rf.b3...   \n",
       "\n",
       "                                             pixvals   masterpiece  \\\n",
       "0  [[[-26.939003, -18.779, -3.6800003], [-27.9390...             0   \n",
       "\n",
       "    nograffiti   tags   throwups  \n",
       "0            0      1          0  "
      ]
     },
     "execution_count": 152,
     "metadata": {},
     "output_type": "execute_result"
    }
   ],
   "source": [
    "train.head(1)"
   ]
  },
  {
   "cell_type": "code",
   "execution_count": 166,
   "id": "a203b40c-bae1-4bd4-90cc-9b3c25482c68",
   "metadata": {},
   "outputs": [],
   "source": [
    "x_train = np.array(list(thing for thing in train.values[:,2]))\n",
    "y_train = train.values[:,-4:].astype(np.float32)"
   ]
  },
  {
   "cell_type": "code",
   "execution_count": 163,
   "id": "c3787108-8276-4d4c-bdd6-fcdcf5cf0012",
   "metadata": {},
   "outputs": [
    {
     "data": {
      "text/plain": [
       "(1821, 400, 400, 3)"
      ]
     },
     "execution_count": 163,
     "metadata": {},
     "output_type": "execute_result"
    }
   ],
   "source": [
    "x_train.shape"
   ]
  },
  {
   "cell_type": "code",
   "execution_count": 168,
   "id": "3a6ded59-8aeb-461f-910d-cfdca5022a99",
   "metadata": {
    "tags": []
   },
   "outputs": [
    {
     "name": "stdout",
     "output_type": "stream",
     "text": [
      "Model: \"model_10\"\n",
      "_________________________________________________________________\n",
      " Layer (type)                Output Shape              Param #   \n",
      "=================================================================\n",
      " input_11 (InputLayer)       [(None, 400, 400, 3)]     0         \n",
      "                                                                 \n",
      " block1_conv1 (Conv2D)       (None, 400, 400, 64)      1792      \n",
      "                                                                 \n",
      " block1_conv2 (Conv2D)       (None, 400, 400, 64)      36928     \n",
      "                                                                 \n",
      " block1_pool (MaxPooling2D)  (None, 200, 200, 64)      0         \n",
      "                                                                 \n",
      " block2_conv1 (Conv2D)       (None, 200, 200, 128)     73856     \n",
      "                                                                 \n",
      " block2_conv2 (Conv2D)       (None, 200, 200, 128)     147584    \n",
      "                                                                 \n",
      " block2_pool (MaxPooling2D)  (None, 100, 100, 128)     0         \n",
      "                                                                 \n",
      " block3_conv1 (Conv2D)       (None, 100, 100, 256)     295168    \n",
      "                                                                 \n",
      " block3_conv2 (Conv2D)       (None, 100, 100, 256)     590080    \n",
      "                                                                 \n",
      " block3_conv3 (Conv2D)       (None, 100, 100, 256)     590080    \n",
      "                                                                 \n",
      " block3_pool (MaxPooling2D)  (None, 50, 50, 256)       0         \n",
      "                                                                 \n",
      " block4_conv1 (Conv2D)       (None, 50, 50, 512)       1180160   \n",
      "                                                                 \n",
      " block4_conv2 (Conv2D)       (None, 50, 50, 512)       2359808   \n",
      "                                                                 \n",
      " block4_conv3 (Conv2D)       (None, 50, 50, 512)       2359808   \n",
      "                                                                 \n",
      " block4_pool (MaxPooling2D)  (None, 25, 25, 512)       0         \n",
      "                                                                 \n",
      " block5_conv1 (Conv2D)       (None, 25, 25, 512)       2359808   \n",
      "                                                                 \n",
      " block5_conv2 (Conv2D)       (None, 25, 25, 512)       2359808   \n",
      "                                                                 \n",
      " block5_conv3 (Conv2D)       (None, 25, 25, 512)       2359808   \n",
      "                                                                 \n",
      " block5_pool (MaxPooling2D)  (None, 12, 12, 512)       0         \n",
      "                                                                 \n",
      " global_max_pooling2d_10 (Gl  (None, 512)              0         \n",
      " obalMaxPooling2D)                                               \n",
      "                                                                 \n",
      " flatten_10 (Flatten)        (None, 512)               0         \n",
      "                                                                 \n",
      " dense_20 (Dense)            (None, 1024)              525312    \n",
      "                                                                 \n",
      " dense_21 (Dense)            (None, 4)                 4100      \n",
      "                                                                 \n",
      "=================================================================\n",
      "Total params: 15,244,100\n",
      "Trainable params: 529,412\n",
      "Non-trainable params: 14,714,688\n",
      "_________________________________________________________________\n"
     ]
    }
   ],
   "source": [
    "# Load VGG16 without the top layer and with pooling\n",
    "base_model = VGG16(include_top=False, input_shape=(400, 400, 3), pooling='max')\n",
    "\n",
    "# Prevent training on the base model layers\n",
    "for layer in base_model.layers:\n",
    "    layer.trainable = False\n",
    "\n",
    "# Properly connect new layers\n",
    "x = Flatten()(base_model.output)  # Ensure the base model's output connects here\n",
    "x = Dense(1024, activation='relu')(x)  # Connect this layer to the output of the Flatten layer\n",
    "output = Dense(4, activation='softmax')(x)  # Connect this Dense layer to the previous Dense layer\n",
    "\n",
    "# Finalize the model\n",
    "model = Model(inputs=base_model.input, outputs=output)\n",
    "\n",
    "# Compile the model\n",
    "model.compile(optimizer=\"Adam\", loss=\"CategoricalCrossentropy\", metrics=['accuracy'])\n",
    "\n",
    "# Print the model structure to verify it is correct\n",
    "model.summary()"
   ]
  },
  {
   "cell_type": "code",
   "execution_count": 169,
   "id": "d06fdd8d-9d14-4d2e-a35b-ca184caab33d",
   "metadata": {},
   "outputs": [
    {
     "name": "stdout",
     "output_type": "stream",
     "text": [
      "Epoch 1/5\n",
      "57/57 [==============================] - 410s 7s/step - loss: 24.0115 - accuracy: 0.6914\n",
      "Epoch 2/5\n",
      "57/57 [==============================] - 456s 8s/step - loss: 2.1114 - accuracy: 0.8885\n",
      "Epoch 3/5\n",
      "35/57 [=================>............] - ETA: 2:57 - loss: 1.1165 - accuracy: 0.9321"
     ]
    },
    {
     "name": "stderr",
     "output_type": "stream",
     "text": [
      "\n",
      "KeyboardInterrupt\n",
      "\n"
     ]
    }
   ],
   "source": [
    "model.fit(x_train, y_train, epochs=5)"
   ]
  }
 ],
 "metadata": {
  "kernelspec": {
   "display_name": "Python 3 (ipykernel)",
   "language": "python",
   "name": "python3"
  },
  "language_info": {
   "codemirror_mode": {
    "name": "ipython",
    "version": 3
   },
   "file_extension": ".py",
   "mimetype": "text/x-python",
   "name": "python",
   "nbconvert_exporter": "python",
   "pygments_lexer": "ipython3",
   "version": "3.9.12"
  }
 },
 "nbformat": 4,
 "nbformat_minor": 5
}
