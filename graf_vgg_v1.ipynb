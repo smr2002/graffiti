{
 "cells": [
  {
   "cell_type": "code",
   "execution_count": null,
   "id": "73605334-f3fe-4bf2-9687-25711066871d",
   "metadata": {},
   "outputs": [],
   "source": [
    "%load_ext autoreload\n",
    "%autoreload 2"
   ]
  },
  {
   "cell_type": "code",
   "execution_count": null,
   "id": "78b4b79f-0864-43a7-8eaf-b0012d4b62d5",
   "metadata": {},
   "outputs": [],
   "source": [
    "import os, numpy as np, pandas as pd, matplotlib.pyplot as plt\n",
    "from tensorflow.keras.preprocessing.image import load_img\n",
    "from tensorflow.keras.preprocessing.image import img_to_array\n",
    "from tensorflow.keras.applications.vgg16 import preprocess_input\n",
    "from tensorflow.keras.applications.vgg16 import decode_predictions\n",
    "from tensorflow.keras.applications.vgg16 import VGG16\n",
    "from tensorflow.keras.optimizers import Adam\n",
    "from tensorflow.keras.losses import CategoricalCrossentropy\n",
    "from keras.models import Sequential\n",
    "from keras.layers import Dense\n",
    "from keras.utils import np_utils\n",
    "from keras.models import Model\n",
    "from keras.layers import Flatten\n",
    "from copy import copy, deepcopy"
   ]
  },
  {
   "cell_type": "code",
   "execution_count": null,
   "id": "9ca52307-f9c8-48ea-b6a1-6d05dded8887",
   "metadata": {},
   "outputs": [],
   "source": [
    "# HELPERS\n",
    "def process(data):\n",
    "    if not os.path.exists(os.path.join(\"graffiti_data\",data)):\n",
    "        raise FileNotFoundError(\"No such data folder. Try 'train', 'test', or 'valid'.\")\n",
    "    files = sorted([file for file in \\\n",
    "                    os.listdir(os.path.join(\"graffiti_data\",data))\\\n",
    "                    if file[-4:] == \".jpg\"])\n",
    "    X = [load_img(os.path.join(\"graffiti_data\",data,im)) for im in files]\n",
    "    X = [img_to_array(im) for im in X]\n",
    "    # X = [im.reshape((1, im.shape[0], im.shape[1], im.shape[2])) for im in X]\n",
    "    X = np.array([preprocess_input(im) for im in X])\n",
    "    classes = pd.read_csv(os.path.join('graffiti_data',data,'_classes.csv'))\\\n",
    "    .sort_values(\"filename\")\n",
    "    classes.insert(1,\"pixvals\",list(X))\n",
    "    classes.reset_index(inplace=True)\n",
    "    new_path = os.path.join(\"graffiti_data\",f\"{data}_data_full.csv\")\n",
    "    if os.path.exists(new_path):\n",
    "        os.remove(new_path)\n",
    "    classes.to_csv(new_path)\n",
    "    return classes"
   ]
  },
  {
   "cell_type": "code",
   "execution_count": null,
   "id": "5fbc64e4-455c-41c5-94d4-0db6a62c3c16",
   "metadata": {},
   "outputs": [],
   "source": [
    "train = process(\"train\")\n",
    "train.shape"
   ]
  },
  {
   "cell_type": "code",
   "execution_count": null,
   "id": "623aba95-d154-4baf-acec-af4263be0b4d",
   "metadata": {},
   "outputs": [],
   "source": [
    "train.head(1)"
   ]
  },
  {
   "cell_type": "code",
   "execution_count": null,
   "id": "a203b40c-bae1-4bd4-90cc-9b3c25482c68",
   "metadata": {},
   "outputs": [],
   "source": [
    "x_train = np.array(list(thing for thing in train.values[:,2]))\n",
    "y_train = train.values[:,-4:].astype(np.float32)"
   ]
  },
  {
   "cell_type": "code",
   "execution_count": null,
   "id": "c3787108-8276-4d4c-bdd6-fcdcf5cf0012",
   "metadata": {},
   "outputs": [],
   "source": [
    "x_train.shape"
   ]
  },
  {
   "cell_type": "code",
   "execution_count": null,
   "id": "ebcba4bf-1af7-4172-9017-473bb78b8bd2",
   "metadata": {
    "tags": []
   },
   "outputs": [],
   "source": [
    "# Load VGG16 without the top layer and with pooling\n",
    "base_model = VGG16(include_top=False, input_shape=(400, 400, 3), pooling='max')\n",
    "\n",
    "# Prevent training on the base model layers\n",
    "# for layer in base_model.layers:\n",
    "#     layer.trainable = False\n",
    "\n",
    "# Properly connect new layers\n",
    "x = Flatten()(base_model.output)  # Ensure the base model's output connects here\n",
    "x = Dense(1024, activation='relu')(x)  # Connect this layer to the output of the Flatten layer\n",
    "output = Dense(4, activation='softmax')(x)  # Connect this Dense layer to the previous Dense layer\n",
    "\n",
    "# Finalize the model\n",
    "model = Model(inputs=base_model.input, outputs=output)\n",
    "\n",
    "for layer in model.layers[-8:]:\n",
    "    layer.trainable = False\n",
    "    \n",
    "# Compile the model\n",
    "model.compile(optimizer=\"Adam\", loss=\"CategoricalCrossentropy\", metrics=['accuracy'])\n",
    "\n",
    "# Print the model structure to verify it is correct\n",
    "model.summary()"
   ]
  },
  {
   "cell_type": "code",
   "execution_count": null,
   "id": "df864cad-7138-42fe-84fa-93f0814c3798",
   "metadata": {
    "tags": []
   },
   "outputs": [],
   "source": [
    "hist = model.fit(x_train, y_train, epochs=5)"
   ]
  },
  {
   "cell_type": "code",
   "execution_count": null,
   "id": "12a0f91f-40eb-487e-ba53-615a913627a2",
   "metadata": {},
   "outputs": [],
   "source": [
    "base_model.layers"
   ]
  },
  {
   "cell_type": "code",
   "execution_count": null,
   "id": "d06fdd8d-9d14-4d2e-a35b-ca184caab33d",
   "metadata": {},
   "outputs": [],
   "source": [
    "hist = model.fit(x_train, y_train, epochs=5)"
   ]
  },
  {
   "cell_type": "code",
   "execution_count": null,
   "id": "1c2273a0-99d9-4325-a216-b08ae0217536",
   "metadata": {},
   "outputs": [],
   "source": [
    "model.save(\"vgg_model_1\")"
   ]
  },
  {
   "cell_type": "code",
   "execution_count": null,
   "id": "4c881d61-8bfe-4ab3-a14c-a72f53ce847c",
   "metadata": {},
   "outputs": [],
   "source": [
    "test = process(\"test\")\n",
    "test.shape"
   ]
  },
  {
   "cell_type": "code",
   "execution_count": null,
   "id": "95a60ff9-5fe4-4e96-b998-2fe9f256e6f8",
   "metadata": {},
   "outputs": [],
   "source": [
    "x_test = np.array(list(thing for thing in test.values[:,2]))\n",
    "y_test = test.values[:,-4:].astype(np.float32)"
   ]
  },
  {
   "cell_type": "code",
   "execution_count": null,
   "id": "5673cba2-9a69-4a47-ad70-9eefd52769fd",
   "metadata": {},
   "outputs": [],
   "source": [
    "y_pred = model.predict(x_test)"
   ]
  },
  {
   "cell_type": "code",
   "execution_count": null,
   "id": "8db94719-d80e-4992-ac5a-48aaf26cfea8",
   "metadata": {},
   "outputs": [],
   "source": [
    "def quantize(array):\n",
    "    l = list(array)\n",
    "    return np.array([round(i) for i in l])"
   ]
  },
  {
   "cell_type": "code",
   "execution_count": null,
   "id": "a1001f3a-2528-4be9-bcfe-60a3b37dbe88",
   "metadata": {},
   "outputs": [],
   "source": [
    "for i in range(len(y_pred)):\n",
    "    y_pred[i] = quantize(y_pred[i])    "
   ]
  },
  {
   "cell_type": "code",
   "execution_count": null,
   "id": "7fa6ddd8-aa29-42b1-8910-5ddd33e69575",
   "metadata": {},
   "outputs": [],
   "source": [
    "def compare(a1,a2):\n",
    "    if sum(a1==a2) == 4:\n",
    "        return True\n",
    "    return False"
   ]
  },
  {
   "cell_type": "code",
   "execution_count": null,
   "id": "292bced8-4617-4edf-9438-dcbd4730add5",
   "metadata": {},
   "outputs": [],
   "source": [
    "truth_mat = []\n",
    "for i in range(len(y_pred)):\n",
    "    truth_mat.append(compare(y_pred[i],y_test[i]))"
   ]
  },
  {
   "cell_type": "code",
   "execution_count": null,
   "id": "9321de08-9877-4fc7-b7b9-49913ed79546",
   "metadata": {},
   "outputs": [],
   "source": [
    "print(f\"Test Accuracy: {round(100* sum(truth_mat)/len(truth_mat),2)}%\")"
   ]
  }
 ],
 "metadata": {
  "kernelspec": {
   "display_name": "Python 3 (ipykernel)",
   "language": "python",
   "name": "python3"
  },
  "language_info": {
   "codemirror_mode": {
    "name": "ipython",
    "version": 3
   },
   "file_extension": ".py",
   "mimetype": "text/x-python",
   "name": "python",
   "nbconvert_exporter": "python",
   "pygments_lexer": "ipython3",
   "version": "3.9.12"
  }
 },
 "nbformat": 4,
 "nbformat_minor": 5
}
